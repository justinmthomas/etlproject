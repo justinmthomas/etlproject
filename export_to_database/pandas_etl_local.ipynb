{
 "cells": [
  {
   "cell_type": "code",
   "execution_count": 1,
   "metadata": {},
   "outputs": [],
   "source": [
    "import pandas as pd\n",
    "from sqlalchemy import create_engine"
   ]
  },
  {
   "cell_type": "markdown",
   "metadata": {},
   "source": [
    "### Extract CSVs into DataFrames"
   ]
  },
  {
   "cell_type": "code",
   "execution_count": 2,
   "metadata": {},
   "outputs": [
    {
     "data": {
      "text/html": [
       "<div>\n",
       "<style scoped>\n",
       "    .dataframe tbody tr th:only-of-type {\n",
       "        vertical-align: middle;\n",
       "    }\n",
       "\n",
       "    .dataframe tbody tr th {\n",
       "        vertical-align: top;\n",
       "    }\n",
       "\n",
       "    .dataframe thead th {\n",
       "        text-align: right;\n",
       "    }\n",
       "</style>\n",
       "<table border=\"1\" class=\"dataframe\">\n",
       "  <thead>\n",
       "    <tr style=\"text-align: right;\">\n",
       "      <th></th>\n",
       "      <th>Location</th>\n",
       "      <th>Period</th>\n",
       "      <th>Dim1</th>\n",
       "      <th>AttFracAllDeaths</th>\n",
       "      <th>AttFracCancerDeaths</th>\n",
       "      <th>AttFracLiverCirr</th>\n",
       "      <th>AttFracTrafficDeaths</th>\n",
       "      <th>AttFracYLL</th>\n",
       "      <th>Dependence12MoPrev</th>\n",
       "      <th>DrinkersOnlyLitersAlc</th>\n",
       "      <th>DrinkersOnlyCI</th>\n",
       "      <th>HarmfulUse12MoPrev</th>\n",
       "      <th>UseDisorder12moPrev</th>\n",
       "      <th>TrafficCrash100k</th>\n",
       "      <th>TrafficCrashPct</th>\n",
       "      <th>GeometryCode</th>\n",
       "      <th>CrimePct</th>\n",
       "    </tr>\n",
       "  </thead>\n",
       "  <tbody>\n",
       "    <tr>\n",
       "      <td>0</td>\n",
       "      <td>Afghanistan</td>\n",
       "      <td>2016</td>\n",
       "      <td>Both sexes</td>\n",
       "      <td>0.2</td>\n",
       "      <td>NaN</td>\n",
       "      <td>NaN</td>\n",
       "      <td>NaN</td>\n",
       "      <td>1</td>\n",
       "      <td>0.2</td>\n",
       "      <td>26.9</td>\n",
       "      <td>[24.4-29.3]</td>\n",
       "      <td>0.2</td>\n",
       "      <td>0.4</td>\n",
       "      <td>NaN</td>\n",
       "      <td>NaN</td>\n",
       "      <td>NaN</td>\n",
       "      <td>NaN</td>\n",
       "    </tr>\n",
       "    <tr>\n",
       "      <td>1</td>\n",
       "      <td>Afghanistan</td>\n",
       "      <td>2016</td>\n",
       "      <td>Male</td>\n",
       "      <td>0.3</td>\n",
       "      <td>0.5</td>\n",
       "      <td>5.5</td>\n",
       "      <td>0.7</td>\n",
       "      <td>NaN</td>\n",
       "      <td>0.3</td>\n",
       "      <td>30.4</td>\n",
       "      <td>[27.7-33.2]</td>\n",
       "      <td>0.3</td>\n",
       "      <td>0.6</td>\n",
       "      <td>NaN</td>\n",
       "      <td>NaN</td>\n",
       "      <td>NaN</td>\n",
       "      <td>NaN</td>\n",
       "    </tr>\n",
       "    <tr>\n",
       "      <td>2</td>\n",
       "      <td>Afghanistan</td>\n",
       "      <td>2016</td>\n",
       "      <td>Female</td>\n",
       "      <td>0.1</td>\n",
       "      <td>0.1</td>\n",
       "      <td>1.1</td>\n",
       "      <td>0.5</td>\n",
       "      <td>NaN</td>\n",
       "      <td>0.1</td>\n",
       "      <td>11.5</td>\n",
       "      <td>[10.4-12.5]</td>\n",
       "      <td>0</td>\n",
       "      <td>0.1</td>\n",
       "      <td>NaN</td>\n",
       "      <td>NaN</td>\n",
       "      <td>NaN</td>\n",
       "      <td>NaN</td>\n",
       "    </tr>\n",
       "    <tr>\n",
       "      <td>3</td>\n",
       "      <td>Albania</td>\n",
       "      <td>1995</td>\n",
       "      <td>Both sexes</td>\n",
       "      <td>NaN</td>\n",
       "      <td>NaN</td>\n",
       "      <td>NaN</td>\n",
       "      <td>NaN</td>\n",
       "      <td>NaN</td>\n",
       "      <td>NaN</td>\n",
       "      <td>NaN</td>\n",
       "      <td>NaN</td>\n",
       "      <td>NaN</td>\n",
       "      <td>NaN</td>\n",
       "      <td>0.5</td>\n",
       "      <td>3.3</td>\n",
       "      <td>NaN</td>\n",
       "      <td>NaN</td>\n",
       "    </tr>\n",
       "    <tr>\n",
       "      <td>4</td>\n",
       "      <td>Albania</td>\n",
       "      <td>1996</td>\n",
       "      <td>Both sexes</td>\n",
       "      <td>NaN</td>\n",
       "      <td>NaN</td>\n",
       "      <td>NaN</td>\n",
       "      <td>NaN</td>\n",
       "      <td>NaN</td>\n",
       "      <td>NaN</td>\n",
       "      <td>NaN</td>\n",
       "      <td>NaN</td>\n",
       "      <td>NaN</td>\n",
       "      <td>NaN</td>\n",
       "      <td>0.3</td>\n",
       "      <td>1.8</td>\n",
       "      <td>NaN</td>\n",
       "      <td>NaN</td>\n",
       "    </tr>\n",
       "  </tbody>\n",
       "</table>\n",
       "</div>"
      ],
      "text/plain": [
       "      Location  Period        Dim1 AttFracAllDeaths AttFracCancerDeaths  \\\n",
       "0  Afghanistan    2016  Both sexes              0.2                 NaN   \n",
       "1  Afghanistan    2016        Male              0.3                 0.5   \n",
       "2  Afghanistan    2016      Female              0.1                 0.1   \n",
       "3      Albania    1995  Both sexes              NaN                 NaN   \n",
       "4      Albania    1996  Both sexes              NaN                 NaN   \n",
       "\n",
       "  AttFracLiverCirr AttFracTrafficDeaths AttFracYLL Dependence12MoPrev  \\\n",
       "0              NaN                  NaN          1                0.2   \n",
       "1              5.5                  0.7        NaN                0.3   \n",
       "2              1.1                  0.5        NaN                0.1   \n",
       "3              NaN                  NaN        NaN                NaN   \n",
       "4              NaN                  NaN        NaN                NaN   \n",
       "\n",
       "  DrinkersOnlyLitersAlc DrinkersOnlyCI HarmfulUse12MoPrev UseDisorder12moPrev  \\\n",
       "0                  26.9    [24.4-29.3]                0.2                 0.4   \n",
       "1                  30.4    [27.7-33.2]                0.3                 0.6   \n",
       "2                  11.5    [10.4-12.5]                  0                 0.1   \n",
       "3                   NaN            NaN                NaN                 NaN   \n",
       "4                   NaN            NaN                NaN                 NaN   \n",
       "\n",
       "  TrafficCrash100k TrafficCrashPct GeometryCode  CrimePct  \n",
       "0              NaN             NaN          NaN       NaN  \n",
       "1              NaN             NaN          NaN       NaN  \n",
       "2              NaN             NaN          NaN       NaN  \n",
       "3              0.5             3.3          NaN       NaN  \n",
       "4              0.3             1.8          NaN       NaN  "
      ]
     },
     "execution_count": 2,
     "metadata": {},
     "output_type": "execute_result"
    }
   ],
   "source": [
    "#Import alchohol info by country into dataframe from csv\n",
    "alchohol_file = \"alchohol_info_country.csv\"\n",
    "alchohol_df = pd.read_csv(alchohol_file)\n",
    "alchohol_df.head()\n",
    "\n",
    "#Import alchohol info by country into dataframe from csv\n",
    "who_file = \"who_alchohol_data.csv\"\n",
    "who_df = pd.read_csv(who_file)\n",
    "who_df.head()"
   ]
  },
  {
   "cell_type": "code",
   "execution_count": 14,
   "metadata": {},
   "outputs": [],
   "source": [
    "#Perform transformation of column name WHO \"location\" to country to match alchohol dataset\n",
    "who_df.rename(columns={'Location': 'country'}, inplace=True)"
   ]
  },
  {
   "cell_type": "markdown",
   "metadata": {},
   "source": [
    "### Create database connection"
   ]
  },
  {
   "cell_type": "code",
   "execution_count": 7,
   "metadata": {},
   "outputs": [],
   "source": [
    "#Create connection to local Postgres Database \"alchohol\" running on port 5432\n",
    "connection_string = \"postgres:postgres@localhost:5432/alchohol\"\n",
    "engine = create_engine(f'postgresql://{connection_string}')"
   ]
  },
  {
   "cell_type": "code",
   "execution_count": 12,
   "metadata": {},
   "outputs": [
    {
     "data": {
      "text/plain": [
       "['alchohol', 'who_data']"
      ]
     },
     "execution_count": 12,
     "metadata": {},
     "output_type": "execute_result"
    }
   ],
   "source": [
    "# Confirm tables\n",
    "engine.table_names()"
   ]
  },
  {
   "cell_type": "markdown",
   "metadata": {},
   "source": [
    "### Load DataFrames into database"
   ]
  },
  {
   "cell_type": "code",
   "execution_count": 15,
   "metadata": {},
   "outputs": [],
   "source": [
    "#Load alchohol DF to database, create table using SQL Alchemy\n",
    "alchohol_df.to_sql(name='alchohol', con=engine, if_exists='append', index=True)"
   ]
  },
  {
   "cell_type": "code",
   "execution_count": 16,
   "metadata": {},
   "outputs": [],
   "source": [
    "#Load WHO DF to database, create table using SQL Alchemy and load data\n",
    "who_df.to_sql(name='who_data', con=engine, if_exists='append', index=True)\n"
   ]
  },
  {
   "cell_type": "code",
   "execution_count": null,
   "metadata": {},
   "outputs": [],
   "source": []
  }
 ],
 "metadata": {
  "kernelspec": {
   "display_name": "Python 3",
   "language": "python",
   "name": "python3"
  },
  "language_info": {
   "codemirror_mode": {
    "name": "ipython",
    "version": 3
   },
   "file_extension": ".py",
   "mimetype": "text/x-python",
   "name": "python",
   "nbconvert_exporter": "python",
   "pygments_lexer": "ipython3",
   "version": "3.7.4"
  }
 },
 "nbformat": 4,
 "nbformat_minor": 2
}
